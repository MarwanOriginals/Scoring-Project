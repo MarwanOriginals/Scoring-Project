{
 "cells": [
  {
   "cell_type": "code",
   "execution_count": 7,
   "metadata": {},
   "outputs": [],
   "source": [
    "import pandas as pd\n",
    "import numpy as np\n",
    "import matplotlib.pyplot as plt"
   ]
  },
  {
   "cell_type": "code",
   "execution_count": 8,
   "metadata": {},
   "outputs": [],
   "source": [
    "df = pd.read_csv('hmeq_cleaned.csv')"
   ]
  },
  {
   "cell_type": "code",
   "execution_count": 10,
   "metadata": {},
   "outputs": [
    {
     "name": "stdout",
     "output_type": "stream",
     "text": [
      "    VIF Factor        features\n",
      "0         54.2           const\n",
      "15         6.8       JOB_Other\n",
      "11         6.7  REASON_DebtCon\n",
      "12         6.6  REASON_HomeImp\n",
      "16         5.3     JOB_ProfExe\n",
      "14         4.3      JOB_Office\n",
      "13         3.8         JOB_Mgr\n",
      "2          2.9         MORTDUE\n",
      "3          2.7           VALUE\n",
      "18         1.9        JOB_Self\n",
      "17         1.5       JOB_Sales\n",
      "9          1.3            CLNO\n",
      "1          1.2            LOAN\n",
      "7          1.2           CLAGE\n",
      "10         1.1         DEBTINC\n",
      "8          1.1            NINQ\n",
      "6          1.1          DELINQ\n",
      "5          1.1           DEROG\n",
      "4          1.1             YOJ\n"
     ]
    }
   ],
   "source": [
    "from statsmodels.stats.outliers_influence import variance_inflation_factor\n",
    "import statsmodels.api as sm\n",
    "X = sm.add_constant(df.drop('BAD', axis=1))\n",
    "\n",
    "vif = pd.DataFrame()\n",
    "vif[\"VIF Factor\"] = [variance_inflation_factor(X.values, i) for i in range(X.values.shape[1])]\n",
    "vif[\"features\"] = X.columns\n",
    "print(vif.round(1).sort_values('VIF Factor', ascending=False))"
   ]
  },
  {
   "cell_type": "code",
   "execution_count": 11,
   "metadata": {},
   "outputs": [
    {
     "name": "stdout",
     "output_type": "stream",
     "text": [
      "    VIF Factor        features\n",
      "0         49.2           const\n",
      "11         5.9  REASON_DebtCon\n",
      "12         5.8  REASON_HomeImp\n",
      "2          2.9         MORTDUE\n",
      "3          2.7           VALUE\n",
      "15         1.4     JOB_ProfExe\n",
      "9          1.3            CLNO\n",
      "7          1.2           CLAGE\n",
      "1          1.2            LOAN\n",
      "13         1.2         JOB_Mgr\n",
      "14         1.2      JOB_Office\n",
      "8          1.1            NINQ\n",
      "10         1.1         DEBTINC\n",
      "6          1.1          DELINQ\n",
      "5          1.1           DEROG\n",
      "4          1.1             YOJ\n",
      "17         1.1        JOB_Self\n",
      "16         1.0       JOB_Sales\n"
     ]
    }
   ],
   "source": [
    "X = sm.add_constant(df.drop(['BAD','JOB_Other' ], axis=1))\n",
    "\n",
    "vif = pd.DataFrame()\n",
    "vif[\"VIF Factor\"] = [variance_inflation_factor(X.values, i) for i in range(X.values.shape[1])]\n",
    "vif[\"features\"] = X.columns\n",
    "print(vif.round(1).sort_values('VIF Factor', ascending=False))"
   ]
  },
  {
   "cell_type": "code",
   "execution_count": 12,
   "metadata": {},
   "outputs": [
    {
     "name": "stdout",
     "output_type": "stream",
     "text": [
      "    VIF Factor        features\n",
      "0         31.2           const\n",
      "2          2.8         MORTDUE\n",
      "3          2.7           VALUE\n",
      "14         1.4     JOB_ProfExe\n",
      "9          1.3            CLNO\n",
      "13         1.2      JOB_Office\n",
      "12         1.2         JOB_Mgr\n",
      "7          1.2           CLAGE\n",
      "1          1.2            LOAN\n",
      "11         1.1  REASON_HomeImp\n",
      "8          1.1            NINQ\n",
      "10         1.1         DEBTINC\n",
      "6          1.1          DELINQ\n",
      "5          1.1           DEROG\n",
      "4          1.1             YOJ\n",
      "16         1.1        JOB_Self\n",
      "15         1.0       JOB_Sales\n"
     ]
    }
   ],
   "source": [
    "X = sm.add_constant(df.drop(['BAD','JOB_Other', 'REASON_DebtCon' ], axis=1))\n",
    "\n",
    "vif = pd.DataFrame()\n",
    "vif[\"VIF Factor\"] = [variance_inflation_factor(X.values, i) for i in range(X.values.shape[1])]\n",
    "vif[\"features\"] = X.columns\n",
    "print(vif.round(1).sort_values('VIF Factor', ascending=False))"
   ]
  }
 ],
 "metadata": {
  "kernelspec": {
   "display_name": "Python 3",
   "language": "python",
   "name": "python3"
  },
  "language_info": {
   "codemirror_mode": {
    "name": "ipython",
    "version": 3
   },
   "file_extension": ".py",
   "mimetype": "text/x-python",
   "name": "python",
   "nbconvert_exporter": "python",
   "pygments_lexer": "ipython3",
   "version": "3.9.1"
  }
 },
 "nbformat": 4,
 "nbformat_minor": 4
}
